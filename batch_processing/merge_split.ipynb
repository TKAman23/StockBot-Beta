{
 "cells": [
  {
   "cell_type": "markdown",
   "id": "07cb86cc-37e4-46c3-b6b9-31e7a19ac202",
   "metadata": {},
   "source": [
    "# Merge Split Data"
   ]
  },
  {
   "cell_type": "code",
   "execution_count": 2,
   "id": "3b233fe4-80c4-471d-b944-de91277a4eb3",
   "metadata": {},
   "outputs": [],
   "source": [
    "import pandas as pd\n",
    "from tqdm.notebook import tqdm\n",
    "import os\n",
    "\n",
    "# Paths\n",
    "splits = [f\"../news_data/sentiment_data_split/nasdaq_external_{num}\" for num in range(1, 6)]\n",
    "\n",
    "# Generate dataframe\n",
    "merged = pd.concat(tqdm(pd.read_csv(split)) for split in tqdm(splits), ignore_index=True, sort=False)\n",
    "\n",
    "# Output path\n",
    "os.makedirs(\"../news_data/sentiment_data\", exist_ok=True)\n",
    "merge_path = \"../news_data/sentiment_data/nasdaq.csv\"\n",
    "\n",
    "# Output as csv\n",
    "pd.to_csv(merge_path)\n",
    "pd"
   ]
  }
 ],
 "metadata": {
  "kernelspec": {
   "display_name": "Python 3 (ipykernel)",
   "language": "python",
   "name": "python3"
  },
  "language_info": {
   "codemirror_mode": {
    "name": "ipython",
    "version": 3
   },
   "file_extension": ".py",
   "mimetype": "text/x-python",
   "name": "python",
   "nbconvert_exporter": "python",
   "pygments_lexer": "ipython3",
   "version": "3.10.18"
  }
 },
 "nbformat": 4,
 "nbformat_minor": 5
}
