{
 "cells": [
  {
   "cell_type": "markdown",
   "id": "27875246-b291-4420-8f2d-98a381561c69",
   "metadata": {
    "editable": true,
    "slideshow": {
     "slide_type": ""
    },
    "tags": []
   },
   "source": [
    "# Split the Data"
   ]
  },
  {
   "cell_type": "code",
   "execution_count": 3,
   "id": "50932d44-eb19-41eb-946e-2c67edc6b3d8",
   "metadata": {},
   "outputs": [
    {
     "name": "stdout",
     "output_type": "stream",
     "text": [
      "Initial number of elements: 93295794\n",
      "Post drop number of elements: 14861412\n",
      "Overall number of elements dropped (including missing elements): 78434382\n"
     ]
    },
    {
     "data": {
      "application/vnd.jupyter.widget-view+json": {
       "model_id": "0834797e57c24acebd95c892c5a68a8e",
       "version_major": 2,
       "version_minor": 0
      },
      "text/plain": [
       "  0%|          | 0/5 [00:00<?, ?it/s]"
      ]
     },
     "metadata": {},
     "output_type": "display_data"
    },
    {
     "name": "stdout",
     "output_type": "stream",
     "text": [
      "Split complete ✅\n"
     ]
    }
   ],
   "source": [
    "# This can be done to process the data in batches, possibly in multiple kernels/on multiple devices\n",
    "\n",
    "import numpy as np\n",
    "import pandas as pd\n",
    "from tqdm.notebook import tqdm\n",
    "import os\n",
    "\n",
    "# Load dataset\n",
    "data_path = \"news_data/direct_data/nasdaq_external_data.csv\"\n",
    "df = pd.read_csv(\n",
    "    data_path,\n",
    "    usecols=[\"Date\", \"Stock_symbol\", \"Lsa_summary\", \"Luhn_summary\", \"Textrank_summary\", \"Lexrank_summary\"],\n",
    "    dtype=np.bytes_\n",
    ")\n",
    "\n",
    "# Dropping unnecessary data for easier sending\n",
    "# Printing will show how much data is actually present\n",
    "\n",
    "initial = df.size\n",
    "print(f\"Initial number of elements: {initial}\")\n",
    "\n",
    "df.dropna(inplace=True)\n",
    "df.drop_duplicates(inplace=True)\n",
    "\n",
    "print(f\"Post drop number of elements: {df.size}\")\n",
    "print(f\"Overall number of elements dropped (including missing elements): {initial - df.size}\")\n",
    "\n",
    "# Create output directory\n",
    "output_dir = \"news_data/splits\"\n",
    "os.makedirs(output_dir, exist_ok=True)\n",
    "\n",
    "# Split into n parts\n",
    "num_splits = 5\n",
    "split_size = len(df) // num_splits\n",
    "\n",
    "for i in tqdm(range(num_splits)):\n",
    "    start_idx = i * split_size\n",
    "    end_idx = (i + 1) * split_size if i < num_splits - 1 else len(df)\n",
    "    split_df = df[start_idx:end_idx]\n",
    "    split_path = os.path.join(output_dir, f\"nasdaq_external_{i+1}.csv\")\n",
    "    split_df.to_csv(split_path, index=False)\n",
    "\n",
    "print(\"Split complete ✅\")"
   ]
  }
 ],
 "metadata": {
  "kernelspec": {
   "display_name": "Python 3 (ipykernel)",
   "language": "python",
   "name": "python3"
  },
  "language_info": {
   "codemirror_mode": {
    "name": "ipython",
    "version": 3
   },
   "file_extension": ".py",
   "mimetype": "text/x-python",
   "name": "python",
   "nbconvert_exporter": "python",
   "pygments_lexer": "ipython3",
   "version": "3.10.18"
  }
 },
 "nbformat": 4,
 "nbformat_minor": 5
}
