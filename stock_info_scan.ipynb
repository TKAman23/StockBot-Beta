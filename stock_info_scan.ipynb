{
 "cells": [
  {
   "cell_type": "markdown",
   "id": "0fcc4547-def0-4f8b-829f-d6998a8c1efd",
   "metadata": {},
   "source": [
    "# Check Which Stocks Have Most News Available"
   ]
  },
  {
   "cell_type": "code",
   "execution_count": 1,
   "id": "67cee5a0-7a3a-481a-acf1-ef591bac4a88",
   "metadata": {},
   "outputs": [
    {
     "data": {
      "application/vnd.jupyter.widget-view+json": {
       "model_id": "3aa97a89362e491eb6a91544f1296e16",
       "version_major": 2,
       "version_minor": 0
      },
      "text/plain": [
       "Chunks Read:   0%|          | 0/1555 [00:00<?, ?it/s]"
      ]
     },
     "metadata": {},
     "output_type": "display_data"
    },
    {
     "data": {
      "application/vnd.jupyter.widget-view+json": {
       "model_id": "7e1a24f9e50444dd965e912469e6f814",
       "version_major": 2,
       "version_minor": 0
      },
      "text/plain": [
       "Chunks Put Together:   0%|          | 0/1555 [00:00<?, ?it/s]"
      ]
     },
     "metadata": {},
     "output_type": "display_data"
    },
    {
     "data": {
      "text/plain": [
       "Stock_symbol\n",
       "GILD     12376\n",
       "NVDA     11862\n",
       "QQQ      11813\n",
       "BABA     11625\n",
       "WFC      11301\n",
       "INTC     11157\n",
       "MRK      10774\n",
       "TSLA     10587\n",
       "KO       10521\n",
       "BROGW    10456\n",
       "BPYPO     9979\n",
       "GOOG      9930\n",
       "DIS       9654\n",
       "BHFAL     9614\n",
       "MU        9605\n",
       "T         9463\n",
       "MS        9458\n",
       "AAPL      9338\n",
       "AMD       9209\n",
       "PMAY      9108\n",
       "CLSN      9106\n",
       "ACGLO     9014\n",
       "DNOV      8990\n",
       "GSEE      8966\n",
       "QCOM      8954\n",
       "FDEV      8891\n",
       "OCFCP     8832\n",
       "PFFL      8822\n",
       "CMCSA     8820\n",
       "BRK       8797\n",
       "FDX       8744\n",
       "MSFT      8737\n",
       "GS        8730\n",
       "HCRB      8722\n",
       "FFEB      8718\n",
       "UEVM      8715\n",
       "BSMR      8708\n",
       "UCIB      8699\n",
       "WLDR      8698\n",
       "KJUL      8693\n",
       "CVX       8688\n",
       "WMT       8686\n",
       "GDMA      8680\n",
       "WTRE      8680\n",
       "GE        8680\n",
       "ARTLW     8677\n",
       "FSMB      8662\n",
       "CGRO      8640\n",
       "HVT-A     8630\n",
       "UFEB      8603\n",
       "Name: count, dtype: int64"
      ]
     },
     "execution_count": 1,
     "metadata": {},
     "output_type": "execute_result"
    }
   ],
   "source": [
    "import pandas as pd\n",
    "from tqdm.notebook import tqdm\n",
    "\n",
    "# Load dataset\n",
    "DATA_SIZE = 15549298\n",
    "CHUNK_SIZE = 10000\n",
    "nasdaq_path = \"news_data/direct_data/nasdaq_external_data.csv\"\n",
    "nasdaq_df = pd.concat(\n",
    "    tqdm([\n",
    "        chunk.dropna() for chunk in tqdm(\n",
    "            pd.read_csv(\n",
    "                nasdaq_path,\n",
    "                index_col=\"Date\",\n",
    "                usecols=[\"Date\", \"Stock_symbol\"],\n",
    "                dtype=str,\n",
    "                chunksize=CHUNK_SIZE),\n",
    "            total=DATA_SIZE//CHUNK_SIZE + 1,\n",
    "            desc=\"Chunks Read\")],\n",
    "        total=DATA_SIZE//CHUNK_SIZE + 1,\n",
    "        desc=\"Chunks Put Together\"\n",
    "        ))\n",
    "\n",
    "nasdaq_df.dropna(inplace=True)\n",
    "stock_list = nasdaq_df[\"Stock_symbol\"].value_counts()\n",
    "stock_list.head(50)"
   ]
  },
  {
   "cell_type": "markdown",
   "id": "2afb5ac4-20ed-47fe-84fe-dffadd3fea12",
   "metadata": {},
   "source": [
    "# Get Set of All Stocks"
   ]
  },
  {
   "cell_type": "code",
   "execution_count": 2,
   "id": "b06a621a-5fd4-4f14-b910-1efd468b4b87",
   "metadata": {
    "scrolled": true
   },
   "outputs": [],
   "source": [
    "# Getting list of all stocks for which we have sufficient data\n",
    "stock_list = stock_list[stock_list > 9000]\n",
    "stocks = list(stock_list.index)"
   ]
  },
  {
   "cell_type": "markdown",
   "id": "d56160e1-208d-4758-b787-293f0454457b",
   "metadata": {},
   "source": [
    "# Get Date Range"
   ]
  },
  {
   "cell_type": "code",
   "execution_count": 3,
   "id": "648ec3e1-539d-4a93-a402-6ad158ec8346",
   "metadata": {},
   "outputs": [
    {
     "ename": "KeyError",
     "evalue": "'date'",
     "output_type": "error",
     "traceback": [
      "\u001b[1;31m---------------------------------------------------------------------------\u001b[0m",
      "\u001b[1;31mKeyError\u001b[0m                                  Traceback (most recent call last)",
      "File \u001b[1;32m~\\anaconda3\\envs\\stockbot-env\\lib\\site-packages\\pandas\\core\\indexes\\base.py:3812\u001b[0m, in \u001b[0;36mIndex.get_loc\u001b[1;34m(self, key)\u001b[0m\n\u001b[0;32m   3811\u001b[0m \u001b[38;5;28;01mtry\u001b[39;00m:\n\u001b[1;32m-> 3812\u001b[0m     \u001b[38;5;28;01mreturn\u001b[39;00m \u001b[38;5;28;43mself\u001b[39;49m\u001b[38;5;241;43m.\u001b[39;49m\u001b[43m_engine\u001b[49m\u001b[38;5;241;43m.\u001b[39;49m\u001b[43mget_loc\u001b[49m\u001b[43m(\u001b[49m\u001b[43mcasted_key\u001b[49m\u001b[43m)\u001b[49m\n\u001b[0;32m   3813\u001b[0m \u001b[38;5;28;01mexcept\u001b[39;00m \u001b[38;5;167;01mKeyError\u001b[39;00m \u001b[38;5;28;01mas\u001b[39;00m err:\n",
      "File \u001b[1;32mpandas/_libs/index.pyx:167\u001b[0m, in \u001b[0;36mpandas._libs.index.IndexEngine.get_loc\u001b[1;34m()\u001b[0m\n",
      "File \u001b[1;32mpandas/_libs/index.pyx:196\u001b[0m, in \u001b[0;36mpandas._libs.index.IndexEngine.get_loc\u001b[1;34m()\u001b[0m\n",
      "File \u001b[1;32mpandas/_libs/hashtable_class_helper.pxi:7088\u001b[0m, in \u001b[0;36mpandas._libs.hashtable.PyObjectHashTable.get_item\u001b[1;34m()\u001b[0m\n",
      "File \u001b[1;32mpandas/_libs/hashtable_class_helper.pxi:7096\u001b[0m, in \u001b[0;36mpandas._libs.hashtable.PyObjectHashTable.get_item\u001b[1;34m()\u001b[0m\n",
      "\u001b[1;31mKeyError\u001b[0m: 'date'",
      "\nThe above exception was the direct cause of the following exception:\n",
      "\u001b[1;31mKeyError\u001b[0m                                  Traceback (most recent call last)",
      "Cell \u001b[1;32mIn[3], line 2\u001b[0m\n\u001b[0;32m      1\u001b[0m \u001b[38;5;66;03m# Get min and max datetimes for each ticker\u001b[39;00m\n\u001b[1;32m----> 2\u001b[0m nasdaq_df\u001b[38;5;241m.\u001b[39mindex \u001b[38;5;241m=\u001b[39m pd\u001b[38;5;241m.\u001b[39mto_datetime(\u001b[43mnasdaq_df\u001b[49m\u001b[43m[\u001b[49m\u001b[38;5;124;43m\"\u001b[39;49m\u001b[38;5;124;43mdate\u001b[39;49m\u001b[38;5;124;43m\"\u001b[39;49m\u001b[43m]\u001b[49m, errors\u001b[38;5;241m=\u001b[39m\u001b[38;5;124m\"\u001b[39m\u001b[38;5;124mcoerce\u001b[39m\u001b[38;5;124m\"\u001b[39m)\n\u001b[0;32m      3\u001b[0m ticker_date_summary \u001b[38;5;241m=\u001b[39m nasdaq_df\u001b[38;5;241m.\u001b[39mgroupby(\u001b[38;5;124m\"\u001b[39m\u001b[38;5;124mStock_symbol\u001b[39m\u001b[38;5;124m\"\u001b[39m)[\u001b[38;5;124m\"\u001b[39m\u001b[38;5;124mdate\u001b[39m\u001b[38;5;124m\"\u001b[39m]\u001b[38;5;241m.\u001b[39magg([\u001b[38;5;124m\"\u001b[39m\u001b[38;5;124mmin\u001b[39m\u001b[38;5;124m\"\u001b[39m, \u001b[38;5;124m\"\u001b[39m\u001b[38;5;124mmax\u001b[39m\u001b[38;5;124m\"\u001b[39m])\u001b[38;5;241m.\u001b[39mreset_index()\n\u001b[0;32m      6\u001b[0m \u001b[38;5;66;03m# Filter out unnecessary\u001b[39;00m\n",
      "File \u001b[1;32m~\\anaconda3\\envs\\stockbot-env\\lib\\site-packages\\pandas\\core\\frame.py:4107\u001b[0m, in \u001b[0;36mDataFrame.__getitem__\u001b[1;34m(self, key)\u001b[0m\n\u001b[0;32m   4105\u001b[0m \u001b[38;5;28;01mif\u001b[39;00m \u001b[38;5;28mself\u001b[39m\u001b[38;5;241m.\u001b[39mcolumns\u001b[38;5;241m.\u001b[39mnlevels \u001b[38;5;241m>\u001b[39m \u001b[38;5;241m1\u001b[39m:\n\u001b[0;32m   4106\u001b[0m     \u001b[38;5;28;01mreturn\u001b[39;00m \u001b[38;5;28mself\u001b[39m\u001b[38;5;241m.\u001b[39m_getitem_multilevel(key)\n\u001b[1;32m-> 4107\u001b[0m indexer \u001b[38;5;241m=\u001b[39m \u001b[38;5;28;43mself\u001b[39;49m\u001b[38;5;241;43m.\u001b[39;49m\u001b[43mcolumns\u001b[49m\u001b[38;5;241;43m.\u001b[39;49m\u001b[43mget_loc\u001b[49m\u001b[43m(\u001b[49m\u001b[43mkey\u001b[49m\u001b[43m)\u001b[49m\n\u001b[0;32m   4108\u001b[0m \u001b[38;5;28;01mif\u001b[39;00m is_integer(indexer):\n\u001b[0;32m   4109\u001b[0m     indexer \u001b[38;5;241m=\u001b[39m [indexer]\n",
      "File \u001b[1;32m~\\anaconda3\\envs\\stockbot-env\\lib\\site-packages\\pandas\\core\\indexes\\base.py:3819\u001b[0m, in \u001b[0;36mIndex.get_loc\u001b[1;34m(self, key)\u001b[0m\n\u001b[0;32m   3814\u001b[0m     \u001b[38;5;28;01mif\u001b[39;00m \u001b[38;5;28misinstance\u001b[39m(casted_key, \u001b[38;5;28mslice\u001b[39m) \u001b[38;5;129;01mor\u001b[39;00m (\n\u001b[0;32m   3815\u001b[0m         \u001b[38;5;28misinstance\u001b[39m(casted_key, abc\u001b[38;5;241m.\u001b[39mIterable)\n\u001b[0;32m   3816\u001b[0m         \u001b[38;5;129;01mand\u001b[39;00m \u001b[38;5;28many\u001b[39m(\u001b[38;5;28misinstance\u001b[39m(x, \u001b[38;5;28mslice\u001b[39m) \u001b[38;5;28;01mfor\u001b[39;00m x \u001b[38;5;129;01min\u001b[39;00m casted_key)\n\u001b[0;32m   3817\u001b[0m     ):\n\u001b[0;32m   3818\u001b[0m         \u001b[38;5;28;01mraise\u001b[39;00m InvalidIndexError(key)\n\u001b[1;32m-> 3819\u001b[0m     \u001b[38;5;28;01mraise\u001b[39;00m \u001b[38;5;167;01mKeyError\u001b[39;00m(key) \u001b[38;5;28;01mfrom\u001b[39;00m\u001b[38;5;250m \u001b[39m\u001b[38;5;21;01merr\u001b[39;00m\n\u001b[0;32m   3820\u001b[0m \u001b[38;5;28;01mexcept\u001b[39;00m \u001b[38;5;167;01mTypeError\u001b[39;00m:\n\u001b[0;32m   3821\u001b[0m     \u001b[38;5;66;03m# If we have a listlike key, _check_indexing_error will raise\u001b[39;00m\n\u001b[0;32m   3822\u001b[0m     \u001b[38;5;66;03m#  InvalidIndexError. Otherwise we fall through and re-raise\u001b[39;00m\n\u001b[0;32m   3823\u001b[0m     \u001b[38;5;66;03m#  the TypeError.\u001b[39;00m\n\u001b[0;32m   3824\u001b[0m     \u001b[38;5;28mself\u001b[39m\u001b[38;5;241m.\u001b[39m_check_indexing_error(key)\n",
      "\u001b[1;31mKeyError\u001b[0m: 'date'"
     ]
    }
   ],
   "source": [
    "# Get min and max datetimes for each ticker\n",
    "nasdaq_df.index = pd.to_datetime(nasdaq_df[\"date\"], errors=\"coerce\")\n",
    "ticker_date_summary = nasdaq_df.groupby(\"Stock_symbol\")[\"date\"].agg([\"min\", \"max\"]).reset_index()\n",
    "\n",
    "\n",
    "# Filter out unnecessary\n",
    "ticker_date_summary = ticker_date_summary[ticker_date_summary[\"Stock_symbol\"].isin(stocks)]\n",
    "\n",
    "# Only keep date in datetime\n",
    "ticker_date_summary[\"start\"] = pd.to_datetime(ticker_date_summary[\"min\"]).dt.date\n",
    "ticker_date_summary[\"end\"] = pd.to_datetime(ticker_date_summary[\"max\"]).dt.date\n",
    "ticker_date_summary.drop(columns=[\"min\", \"max\"], inplace=True)\n",
    "\n",
    "# Fix indexing\n",
    "ticker_date_summary.set_index(\"Stock_symbol\", inplace=True)\n",
    "ticker_date_summary = ticker_date_summary.rename_axis(\"ticker\")\n",
    "\n",
    "ticker_date_summary"
   ]
  },
  {
   "cell_type": "code",
   "execution_count": null,
   "id": "b3cb875f-0f08-440c-a3a5-cf595da154a3",
   "metadata": {},
   "outputs": [],
   "source": [
    "import os\n",
    "\n",
    "# Make directory\n",
    "out_dir = \"stock_data\"\n",
    "os.mkdir(out_dir, exist_ok=True)\n",
    "\n",
    "ticker_date_summary.to_csv(os.path.join(out_dir, \"stock_list.csv\"))\n",
    "\n",
    "print(\"✅ Viable stocks table has been exported\")"
   ]
  }
 ],
 "metadata": {
  "kernelspec": {
   "display_name": "Python 3.10 (stockbot-env)",
   "language": "python",
   "name": "stockbot-env"
  },
  "language_info": {
   "codemirror_mode": {
    "name": "ipython",
    "version": 3
   },
   "file_extension": ".py",
   "mimetype": "text/x-python",
   "name": "python",
   "nbconvert_exporter": "python",
   "pygments_lexer": "ipython3",
   "version": "3.10.18"
  }
 },
 "nbformat": 4,
 "nbformat_minor": 5
}
