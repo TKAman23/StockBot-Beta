{
 "cells": [
  {
   "cell_type": "markdown",
   "id": "0fcc4547-def0-4f8b-829f-d6998a8c1efd",
   "metadata": {},
   "source": [
    "# Check Which Stocks Have Most News Available"
   ]
  },
  {
   "cell_type": "code",
   "execution_count": 1,
   "id": "67cee5a0-7a3a-481a-acf1-ef591bac4a88",
   "metadata": {},
   "outputs": [
    {
     "data": {
      "application/vnd.jupyter.widget-view+json": {
       "model_id": "613c6baa36414c19827ef611e6ae7e65",
       "version_major": 2,
       "version_minor": 0
      },
      "text/plain": [
       "Chunks Read:   0%|          | 0/1555 [00:00<?, ?it/s]"
      ]
     },
     "metadata": {},
     "output_type": "display_data"
    },
    {
     "data": {
      "application/vnd.jupyter.widget-view+json": {
       "model_id": "e797da671db44deaa7ef699d300cfdde",
       "version_major": 2,
       "version_minor": 0
      },
      "text/plain": [
       "Chunks Put Together:   0%|          | 0/1555 [00:00<?, ?it/s]"
      ]
     },
     "metadata": {},
     "output_type": "display_data"
    },
    {
     "data": {
      "text/plain": [
       "Stock_symbol\n",
       "GILD     12376\n",
       "NVDA     11862\n",
       "QQQ      11813\n",
       "BABA     11625\n",
       "WFC      11301\n",
       "INTC     11157\n",
       "MRK      10774\n",
       "TSLA     10587\n",
       "KO       10521\n",
       "BROGW    10456\n",
       "BPYPO     9979\n",
       "GOOG      9930\n",
       "DIS       9654\n",
       "BHFAL     9614\n",
       "MU        9605\n",
       "T         9463\n",
       "MS        9458\n",
       "AAPL      9338\n",
       "AMD       9209\n",
       "PMAY      9108\n",
       "CLSN      9106\n",
       "ACGLO     9014\n",
       "DNOV      8990\n",
       "GSEE      8966\n",
       "QCOM      8954\n",
       "FDEV      8891\n",
       "OCFCP     8832\n",
       "PFFL      8822\n",
       "CMCSA     8820\n",
       "BRK       8797\n",
       "FDX       8744\n",
       "MSFT      8737\n",
       "GS        8730\n",
       "HCRB      8722\n",
       "FFEB      8718\n",
       "UEVM      8715\n",
       "BSMR      8708\n",
       "UCIB      8699\n",
       "WLDR      8698\n",
       "KJUL      8693\n",
       "CVX       8688\n",
       "WMT       8686\n",
       "GDMA      8680\n",
       "WTRE      8680\n",
       "GE        8680\n",
       "ARTLW     8677\n",
       "FSMB      8662\n",
       "CGRO      8640\n",
       "HVT-A     8630\n",
       "UFEB      8603\n",
       "Name: count, dtype: int64"
      ]
     },
     "execution_count": 1,
     "metadata": {},
     "output_type": "execute_result"
    }
   ],
   "source": [
    "import pandas as pd\n",
    "from tqdm.notebook import tqdm\n",
    "\n",
    "# Load dataset\n",
    "DATA_SIZE = 15549298\n",
    "CHUNK_SIZE = 10000\n",
    "nasdaq_path = \"news_data/direct_data/nasdaq_external_data.csv\"\n",
    "nasdaq_df = pd.concat(\n",
    "    tqdm([\n",
    "        chunk.dropna() for chunk in tqdm(\n",
    "            pd.read_csv(\n",
    "                nasdaq_path,\n",
    "                index_col=\"Date\",\n",
    "                usecols=[\"Date\", \"Stock_symbol\"],\n",
    "                dtype=str,\n",
    "                chunksize=CHUNK_SIZE),\n",
    "            total=DATA_SIZE//CHUNK_SIZE + 1,\n",
    "            desc=\"Chunks Read\")],\n",
    "        total=DATA_SIZE//CHUNK_SIZE + 1,\n",
    "        desc=\"Chunks Put Together\"\n",
    "        ))\n",
    "\n",
    "nasdaq_df.dropna(inplace=True)\n",
    "stock_list = nasdaq_df[\"Stock_symbol\"].value_counts()\n",
    "stock_list.head(50)"
   ]
  },
  {
   "cell_type": "markdown",
   "id": "2afb5ac4-20ed-47fe-84fe-dffadd3fea12",
   "metadata": {},
   "source": [
    "# Get Set of All Stocks"
   ]
  },
  {
   "cell_type": "code",
   "execution_count": 2,
   "id": "b06a621a-5fd4-4f14-b910-1efd468b4b87",
   "metadata": {
    "scrolled": true
   },
   "outputs": [
    {
     "data": {
      "application/vnd.jupyter.widget-view+json": {
       "model_id": "823b886f91494becb73d9d57c9bccee7",
       "version_major": 2,
       "version_minor": 0
      },
      "text/plain": [
       "  0%|          | 0/22 [00:00<?, ?it/s]"
      ]
     },
     "metadata": {},
     "output_type": "display_data"
    }
   ],
   "source": [
    "# Getting list of all stocks for which we have sufficient data\n",
    "stock_list = stock_list[stock_list > 9000]\n",
    "stocks = list(stock_list.index)"
   ]
  },
  {
   "cell_type": "markdown",
   "id": "d56160e1-208d-4758-b787-293f0454457b",
   "metadata": {},
   "source": [
    "# Get Date Range"
   ]
  },
  {
   "cell_type": "code",
   "execution_count": 17,
   "id": "648ec3e1-539d-4a93-a402-6ad158ec8346",
   "metadata": {},
   "outputs": [
    {
     "data": {
      "text/html": [
       "<div>\n",
       "<style scoped>\n",
       "    .dataframe tbody tr th:only-of-type {\n",
       "        vertical-align: middle;\n",
       "    }\n",
       "\n",
       "    .dataframe tbody tr th {\n",
       "        vertical-align: top;\n",
       "    }\n",
       "\n",
       "    .dataframe thead th {\n",
       "        text-align: right;\n",
       "    }\n",
       "</style>\n",
       "<table border=\"1\" class=\"dataframe\">\n",
       "  <thead>\n",
       "    <tr style=\"text-align: right;\">\n",
       "      <th></th>\n",
       "      <th>start</th>\n",
       "      <th>end</th>\n",
       "    </tr>\n",
       "    <tr>\n",
       "      <th>ticker</th>\n",
       "      <th></th>\n",
       "      <th></th>\n",
       "    </tr>\n",
       "  </thead>\n",
       "  <tbody>\n",
       "    <tr>\n",
       "      <th>AAPL</th>\n",
       "      <td>2020-03-09</td>\n",
       "      <td>2023-12-16</td>\n",
       "    </tr>\n",
       "    <tr>\n",
       "      <th>ACGLO</th>\n",
       "      <td>2023-11-28</td>\n",
       "      <td>2023-12-16</td>\n",
       "    </tr>\n",
       "    <tr>\n",
       "      <th>AMD</th>\n",
       "      <td>2016-12-12</td>\n",
       "      <td>2024-01-09</td>\n",
       "    </tr>\n",
       "    <tr>\n",
       "      <th>BABA</th>\n",
       "      <td>2014-11-07</td>\n",
       "      <td>2023-12-16</td>\n",
       "    </tr>\n",
       "    <tr>\n",
       "      <th>BHFAL</th>\n",
       "      <td>2023-11-30</td>\n",
       "      <td>2023-12-16</td>\n",
       "    </tr>\n",
       "    <tr>\n",
       "      <th>BPYPO</th>\n",
       "      <td>2023-11-30</td>\n",
       "      <td>2023-12-16</td>\n",
       "    </tr>\n",
       "    <tr>\n",
       "      <th>BROGW</th>\n",
       "      <td>2023-11-30</td>\n",
       "      <td>2023-12-16</td>\n",
       "    </tr>\n",
       "    <tr>\n",
       "      <th>CLSN</th>\n",
       "      <td>2009-09-28</td>\n",
       "      <td>2023-12-16</td>\n",
       "    </tr>\n",
       "    <tr>\n",
       "      <th>DIS</th>\n",
       "      <td>2019-06-13</td>\n",
       "      <td>2023-12-16</td>\n",
       "    </tr>\n",
       "    <tr>\n",
       "      <th>GILD</th>\n",
       "      <td>2009-09-11</td>\n",
       "      <td>2023-12-16</td>\n",
       "    </tr>\n",
       "    <tr>\n",
       "      <th>GOOG</th>\n",
       "      <td>2018-11-13</td>\n",
       "      <td>2023-12-16</td>\n",
       "    </tr>\n",
       "    <tr>\n",
       "      <th>INTC</th>\n",
       "      <td>2017-12-26</td>\n",
       "      <td>2023-12-16</td>\n",
       "    </tr>\n",
       "    <tr>\n",
       "      <th>KO</th>\n",
       "      <td>2009-06-22</td>\n",
       "      <td>2023-12-16</td>\n",
       "    </tr>\n",
       "    <tr>\n",
       "      <th>MRK</th>\n",
       "      <td>2009-07-27</td>\n",
       "      <td>2023-12-16</td>\n",
       "    </tr>\n",
       "    <tr>\n",
       "      <th>MS</th>\n",
       "      <td>2010-01-20</td>\n",
       "      <td>2023-12-16</td>\n",
       "    </tr>\n",
       "    <tr>\n",
       "      <th>MU</th>\n",
       "      <td>2011-04-20</td>\n",
       "      <td>2023-12-16</td>\n",
       "    </tr>\n",
       "    <tr>\n",
       "      <th>NVDA</th>\n",
       "      <td>2011-03-03</td>\n",
       "      <td>2023-12-16</td>\n",
       "    </tr>\n",
       "    <tr>\n",
       "      <th>PMAY</th>\n",
       "      <td>2023-07-19</td>\n",
       "      <td>2023-12-16</td>\n",
       "    </tr>\n",
       "    <tr>\n",
       "      <th>QQQ</th>\n",
       "      <td>2011-03-16</td>\n",
       "      <td>2023-12-16</td>\n",
       "    </tr>\n",
       "    <tr>\n",
       "      <th>T</th>\n",
       "      <td>2016-06-20</td>\n",
       "      <td>2023-12-16</td>\n",
       "    </tr>\n",
       "    <tr>\n",
       "      <th>TSLA</th>\n",
       "      <td>2019-07-01</td>\n",
       "      <td>2023-12-16</td>\n",
       "    </tr>\n",
       "    <tr>\n",
       "      <th>WFC</th>\n",
       "      <td>2011-12-20</td>\n",
       "      <td>2023-12-15</td>\n",
       "    </tr>\n",
       "  </tbody>\n",
       "</table>\n",
       "</div>"
      ],
      "text/plain": [
       "             start         end\n",
       "ticker                        \n",
       "AAPL    2020-03-09  2023-12-16\n",
       "ACGLO   2023-11-28  2023-12-16\n",
       "AMD     2016-12-12  2024-01-09\n",
       "BABA    2014-11-07  2023-12-16\n",
       "BHFAL   2023-11-30  2023-12-16\n",
       "BPYPO   2023-11-30  2023-12-16\n",
       "BROGW   2023-11-30  2023-12-16\n",
       "CLSN    2009-09-28  2023-12-16\n",
       "DIS     2019-06-13  2023-12-16\n",
       "GILD    2009-09-11  2023-12-16\n",
       "GOOG    2018-11-13  2023-12-16\n",
       "INTC    2017-12-26  2023-12-16\n",
       "KO      2009-06-22  2023-12-16\n",
       "MRK     2009-07-27  2023-12-16\n",
       "MS      2010-01-20  2023-12-16\n",
       "MU      2011-04-20  2023-12-16\n",
       "NVDA    2011-03-03  2023-12-16\n",
       "PMAY    2023-07-19  2023-12-16\n",
       "QQQ     2011-03-16  2023-12-16\n",
       "T       2016-06-20  2023-12-16\n",
       "TSLA    2019-07-01  2023-12-16\n",
       "WFC     2011-12-20  2023-12-15"
      ]
     },
     "execution_count": 17,
     "metadata": {},
     "output_type": "execute_result"
    }
   ],
   "source": [
    "# Get min and max datetimes for each ticker\n",
    "nasdaq_df.index = pd.to_datetime(nasdaq_df[\"Date\"], errors=\"coerce\")\n",
    "ticker_date_summary = nasdaq_df.groupby(\"Stock_symbol\")[\"Date\"].agg([\"min\", \"max\"]).reset_index()\n",
    "\n",
    "\n",
    "# Filter out unnecessary\n",
    "ticker_date_summary = ticker_date_summary[ticker_date_summary[\"Stock_symbol\"].isin(stocks)]\n",
    "\n",
    "# Only keep date in datetime\n",
    "ticker_date_summary[\"start\"] = pd.to_datetime(ticker_date_summary[\"min\"]).dt.date\n",
    "ticker_date_summary[\"end\"] = pd.to_datetime(ticker_date_summary[\"max\"]).dt.date\n",
    "ticker_date_summary.drop(columns=[\"min\", \"max\"], inplace=True)\n",
    "\n",
    "# Fix indexing\n",
    "ticker_date_summary.set_index(\"Stock_symbol\", inplace=True)\n",
    "ticker_date_summary = ticker_date_summary.rename_axis(\"ticker\")\n",
    "\n",
    "ticker_date_summary"
   ]
  },
  {
   "cell_type": "code",
   "execution_count": 19,
   "id": "b3cb875f-0f08-440c-a3a5-cf595da154a3",
   "metadata": {},
   "outputs": [],
   "source": [
    "import os\n",
    "\n",
    "# Make directory\n",
    "out_dir = \"stock_data\"\n",
    "os.mkdir(out_dir, exist_ok=True)\n",
    "\n",
    "ticker_date_summary.to_csv(os.path.join(out_dir, \"stock_list.csv\"))\n",
    "\n",
    "print(\"✅ Viable stocks table has been exported\")"
   ]
  }
 ],
 "metadata": {
  "kernelspec": {
   "display_name": "Python 3 (ipykernel)",
   "language": "python",
   "name": "python3"
  },
  "language_info": {
   "codemirror_mode": {
    "name": "ipython",
    "version": 3
   },
   "file_extension": ".py",
   "mimetype": "text/x-python",
   "name": "python",
   "nbconvert_exporter": "python",
   "pygments_lexer": "ipython3",
   "version": "3.10.18"
  }
 },
 "nbformat": 4,
 "nbformat_minor": 5
}
